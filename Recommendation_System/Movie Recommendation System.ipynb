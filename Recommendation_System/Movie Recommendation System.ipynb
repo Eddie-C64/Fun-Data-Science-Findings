{
 "cells": [
  {
   "cell_type": "markdown",
   "metadata": {
    "collapsed": true
   },
   "source": [
    "# Building a Simple Movie Recommendation System\n",
    "In this investigation we create a simple Movie recommendations system using the LightFM dataset.\n",
    "We will use LIGHTFM as a model in order fit the data and print recommended movies for the users."
   ]
  },
  {
   "cell_type": "code",
   "execution_count": 1,
   "metadata": {},
   "outputs": [
    {
     "name": "stderr",
     "output_type": "stream",
     "text": [
      "/Users/lalo/anaconda/lib/python2.7/site-packages/lightfm/_lightfm_fast.py:9: UserWarning: LightFM was compiled without OpenMP support. Only a single thread will be used.\n",
      "  warnings.warn('LightFM was compiled without OpenMP support. '\n"
     ]
    }
   ],
   "source": [
    "import numpy as np\n",
    "from lightfm.datasets import fetch_movielens\n",
    "from lightfm import LightFM"
   ]
  },
  {
   "cell_type": "markdown",
   "metadata": {},
   "source": [
    "# Load the Movie Dataset"
   ]
  },
  {
   "cell_type": "code",
   "execution_count": 2,
   "metadata": {},
   "outputs": [
    {
     "name": "stdout",
     "output_type": "stream",
     "text": [
      "<943x1682 sparse matrix of type '<type 'numpy.int32'>'\n",
      "\twith 49906 stored elements in COOrdinate format>\n",
      "<943x1682 sparse matrix of type '<type 'numpy.int32'>'\n",
      "\twith 5469 stored elements in COOrdinate format>\n"
     ]
    }
   ],
   "source": [
    "movie_data = fetch_movielens(min_rating=4.0) # we want only movies raited 4 or higher\n",
    "print repr(movie_data['train'])\n",
    "print repr(movie_data['test'])"
   ]
  },
  {
   "cell_type": "markdown",
   "metadata": {},
   "source": [
    "# Train the model \n",
    "Using the old movie review data we train the model"
   ]
  },
  {
   "cell_type": "code",
   "execution_count": 3,
   "metadata": {
    "collapsed": true
   },
   "outputs": [],
   "source": [
    "model = LightFM(loss='warp') # warp = Weighted Approximate-Rank Pairwise\n",
    "model.fit(movie_data['train'], epochs=30, num_threads=2)\n",
    "\n",
    "def sample_recommendation(model, movie_data, user_ids):\n",
    "    n_user, n_items = movie_data['train'].shape\n",
    "    \n",
    "    for user_id in user_ids:\n",
    "\n",
    "        known_positives = movie_data['item_labels'][movie_data['train'].tocsr()[user_id].indices]\n",
    "        \n",
    "        scores = model.predict(user_id, np.arange(n_items))\n",
    "        \n",
    "        top_items = movie_data['item_labels'][np.argsort(-scores)]\n",
    "        \n",
    "        print'User %s' % user_id\n",
    "        print'\\t Known positives:'\n",
    "        for x in known_positives[:3]:\n",
    "            print '\\t\\t Recommended:', x\n",
    "        for x in top_items[:3]:\n",
    "            print'\\t\\t ', x"
   ]
  },
  {
   "cell_type": "markdown",
   "metadata": {},
   "source": [
    "# Recommendations!\n",
    "Lets see what the model recommends for the users!"
   ]
  },
  {
   "cell_type": "code",
   "execution_count": 4,
   "metadata": {},
   "outputs": [
    {
     "name": "stdout",
     "output_type": "stream",
     "text": [
      "User 3\n",
      "\t Known positives:\n",
      "\t\t Recommended: Seven (Se7en) (1995)\n",
      "\t\t Recommended: Contact (1997)\n",
      "\t\t Recommended: Starship Troopers (1997)\n",
      "\t\t  Devil's Advocate, The (1997)\n",
      "\t\t  Air Force One (1997)\n",
      "\t\t  L.A. Confidential (1997)\n",
      "User 25\n",
      "\t Known positives:\n",
      "\t\t Recommended: Dead Man Walking (1995)\n",
      "\t\t Recommended: Star Wars (1977)\n",
      "\t\t Recommended: Fargo (1996)\n",
      "\t\t  English Patient, The (1996)\n",
      "\t\t  Contact (1997)\n",
      "\t\t  Fargo (1996)\n",
      "User 450\n",
      "\t Known positives:\n",
      "\t\t Recommended: Contact (1997)\n",
      "\t\t Recommended: George of the Jungle (1997)\n",
      "\t\t Recommended: Event Horizon (1997)\n",
      "\t\t  I Know What You Did Last Summer (1997)\n",
      "\t\t  Scream (1996)\n",
      "\t\t  Volcano (1997)\n"
     ]
    }
   ],
   "source": [
    "sample_recommendation(model, movie_data, [3, 25, 450])"
   ]
  }
 ],
 "metadata": {
  "anaconda-cloud": {},
  "kernelspec": {
   "display_name": "Python [conda root]",
   "language": "python",
   "name": "conda-root-py"
  },
  "language_info": {
   "codemirror_mode": {
    "name": "ipython",
    "version": 2
   },
   "file_extension": ".py",
   "mimetype": "text/x-python",
   "name": "python",
   "nbconvert_exporter": "python",
   "pygments_lexer": "ipython2",
   "version": "2.7.13"
  }
 },
 "nbformat": 4,
 "nbformat_minor": 2
}

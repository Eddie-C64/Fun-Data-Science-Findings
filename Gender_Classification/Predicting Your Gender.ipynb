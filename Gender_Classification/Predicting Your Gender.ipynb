{
 "cells": [
  {
   "cell_type": "markdown",
   "metadata": {
    "collapsed": true
   },
   "source": [
    "# Predicting Once's Gender\n",
    "Here in this Data Science investigation we use a persons **height, weight, and show size** and correlate it to their gender. \n",
    "#### The Dependcies \n",
    "we will be using are Scikit-Learn's DecisionTree.\n",
    "#### Making 3 more models\n",
    "Now that we have built one model let's create 2 more and compare to see which is the more accurate for this sort of binary prediction."
   ]
  },
  {
   "cell_type": "markdown",
   "metadata": {
    "collapsed": true
   },
   "source": [
    "# Load All the Data and Depedencies"
   ]
  },
  {
   "cell_type": "code",
   "execution_count": 1,
   "metadata": {
    "collapsed": true
   },
   "outputs": [],
   "source": [
    "from sklearn import tree\n",
    "\n",
    "classifier = tree.DecisionTreeClassifier()\n",
    "\n",
    "# x_people_stats = [height (cm), weight (kg), shoe_size (cm)] \n",
    "# The data was gathered from people who work in my office.\n",
    "\n",
    "x_people_stats = [[181, 80, 44], [177, 70, 43], [160, 60, 38], [154, 54, 37], [166, 65, 40],\n",
    "                  [190, 90, 47], [175, 64, 39], [177, 70, 40], [159, 55, 37], [171, 75, 42], \n",
    "                  [181, 85, 43]]\n",
    "\n",
    "y_gender = ['male', 'male', 'female', 'female', 'male', \n",
    "            'male', 'female', 'female', 'female', 'male',\n",
    "            'male']"
   ]
  },
  {
   "cell_type": "markdown",
   "metadata": {},
   "source": [
    "# Train the Model"
   ]
  },
  {
   "cell_type": "code",
   "execution_count": 2,
   "metadata": {
    "collapsed": true
   },
   "outputs": [],
   "source": [
    "# Training the Tree Classifier on the data set.\n",
    "classifier_tree = classifier.fit(x_people_stats, y_gender)"
   ]
  },
  {
   "cell_type": "markdown",
   "metadata": {},
   "source": [
    "# Make a Prediction"
   ]
  },
  {
   "cell_type": "code",
   "execution_count": 3,
   "metadata": {},
   "outputs": [
    {
     "name": "stdout",
     "output_type": "stream",
     "text": [
      "According to the classifier you are a ['male']\n"
     ]
    }
   ],
   "source": [
    "# Now the Tree classifier will predict using my stats.\n",
    "my_stats = [[183,72,44]]\n",
    "\n",
    "prediction_tree_my_stats = classifier_tree.predict(my_stats)\n",
    "\n",
    "def prediction_output(prediction):\n",
    "    print('According to the classifier you are a {}'.format(prediction))\n",
    "    \n",
    "prediction_output(prediction_tree_my_stats)"
   ]
  },
  {
   "cell_type": "markdown",
   "metadata": {},
   "source": [
    "# Now Compare 3 Models"
   ]
  },
  {
   "cell_type": "code",
   "execution_count": 4,
   "metadata": {},
   "outputs": [
    {
     "name": "stdout",
     "output_type": "stream",
     "text": [
      "Now to use 3 other classifiers from scikit-learn\n"
     ]
    },
    {
     "data": {
      "text/plain": [
       "KNeighborsClassifier(algorithm='auto', leaf_size=30, metric='minkowski',\n",
       "           metric_params=None, n_jobs=1, n_neighbors=5, p=2,\n",
       "           weights='uniform')"
      ]
     },
     "execution_count": 4,
     "metadata": {},
     "output_type": "execute_result"
    }
   ],
   "source": [
    "print('Now to use 3 other classifiers from scikit-learn')\n",
    "# 3 Classifiers being used\n",
    "from sklearn.svm import SVC\n",
    "from sklearn.linear_model import Perceptron\n",
    "from sklearn.neighbors import KNeighborsClassifier\n",
    "from sklearn.metrics import accuracy_score\n",
    "from numpy import argmax\n",
    "\n",
    "classifier_svm = SVC()\n",
    "classifier_perceptron = Perceptron()\n",
    "classifier_KNN = KNeighborsClassifier()\n",
    "\n",
    "# train the 3 new models\n",
    "classifier_svm.fit(x_people_stats, y_gender)\n",
    "classifier_perceptron.fit(x_people_stats, y_gender)\n",
    "classifier_KNN.fit(x_people_stats, y_gender)"
   ]
  },
  {
   "cell_type": "code",
   "execution_count": 5,
   "metadata": {},
   "outputs": [
    {
     "name": "stdout",
     "output_type": "stream",
     "text": [
      "According to the classifier you are a ['male']\n",
      "According to the classifier you are a ['male']\n",
      "According to the classifier you are a ['male']\n"
     ]
    }
   ],
   "source": [
    "# See if each classifier can predict if I am male or female\n",
    "pred_svm = classifier_svm.predict(my_stats)\n",
    "pred_KNN = classifier_KNN.predict(my_stats)\n",
    "pred_per = classifier_perceptron.predict(my_stats)\n",
    "\n",
    "prediction_output(pred_svm)\n",
    "prediction_output(pred_KNN)\n",
    "prediction_output(pred_per)"
   ]
  },
  {
   "cell_type": "code",
   "execution_count": 6,
   "metadata": {},
   "outputs": [
    {
     "name": "stdout",
     "output_type": "stream",
     "text": [
      "Accuracy for DecisionTree: 100.0\n",
      "Accuracy for SVM: 100.0\n",
      "Accuracy for perceptron: 54.54545454545454\n",
      "Accuracy for KNN: 72.72727272727273\n",
      "Best gender classifier is SVM\n"
     ]
    }
   ],
   "source": [
    "# Now to check the accuaray of each of the models with the training set.\n",
    "pred_tree = classifier_tree.predict(x_people_stats)\n",
    "acc_tree = accuracy_score(y_gender, pred_tree) * 100\n",
    "print('Accuracy for DecisionTree: {}'.format(acc_tree))\n",
    "\n",
    "pred_svm = classifier_svm.predict(x_people_stats)\n",
    "acc_svm = accuracy_score(y_gender, pred_svm) * 100\n",
    "print('Accuracy for SVM: {}'.format(acc_svm))\n",
    "\n",
    "pred_per = classifier_perceptron.predict(x_people_stats)\n",
    "acc_per = accuracy_score(y_gender, pred_per) * 100\n",
    "print('Accuracy for perceptron: {}'.format(acc_per))\n",
    "\n",
    "pred_KNN = classifier_KNN.predict(x_people_stats)\n",
    "acc_KNN = accuracy_score(y_gender, pred_KNN) * 100\n",
    "print('Accuracy for KNN: {}'.format(acc_KNN))\n",
    "\n",
    "# The best classifier from svm, per, KNN\n",
    "index = argmax([acc_svm, acc_per, acc_KNN])\n",
    "classifiers = {0: 'SVM', 1: 'Perceptron', 2: 'KNN'}\n",
    "print('Best gender classifier is {}'.format(classifiers[index]))"
   ]
  },
  {
   "cell_type": "code",
   "execution_count": null,
   "metadata": {
    "collapsed": true
   },
   "outputs": [],
   "source": []
  }
 ],
 "metadata": {
  "anaconda-cloud": {},
  "kernelspec": {
   "display_name": "Python [conda env:dlnd]",
   "language": "python",
   "name": "conda-env-dlnd-py"
  },
  "language_info": {
   "codemirror_mode": {
    "name": "ipython",
    "version": 3
   },
   "file_extension": ".py",
   "mimetype": "text/x-python",
   "name": "python",
   "nbconvert_exporter": "python",
   "pygments_lexer": "ipython3",
   "version": "3.6.1"
  }
 },
 "nbformat": 4,
 "nbformat_minor": 2
}

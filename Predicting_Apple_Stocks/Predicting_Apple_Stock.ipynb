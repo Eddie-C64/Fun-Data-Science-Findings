{
 "cells": [
  {
   "cell_type": "markdown",
   "metadata": {
    "collapsed": true
   },
   "source": [
    "# Stock Predictions\n",
    "In this investegation we try to make accurate predicitons as what the value of the **APPL** (Apple's Stock) value is given training data from the previous day."
   ]
  },
  {
   "cell_type": "markdown",
   "metadata": {},
   "source": [
    "# Import Depedencies"
   ]
  },
  {
   "cell_type": "code",
   "execution_count": 7,
   "metadata": {
    "collapsed": true
   },
   "outputs": [],
   "source": [
    "import csv\n",
    "import numpy as np\n",
    "from sklearn.svm import SVR\n",
    "import matplotlib.pyplot as plt\n",
    "%matplotlib inline  "
   ]
  },
  {
   "cell_type": "markdown",
   "metadata": {},
   "source": [
    "# Create a data loader"
   ]
  },
  {
   "cell_type": "code",
   "execution_count": 8,
   "metadata": {
    "collapsed": true
   },
   "outputs": [],
   "source": [
    "def get_data(filename):\n",
    "    dates = []\n",
    "    prices = []\n",
    "    \n",
    "    with open(filename, 'r') as csvfile:\n",
    "        \n",
    "        csvFileReader = csv.reader(csvfile)\n",
    "        next(csvFileReader)\t# skipping column names\n",
    "        \n",
    "        for row in csvFileReader:\n",
    "            dates.append(int(row[0].split('-')[0]))\n",
    "            prices.append(float(row[1]))\n",
    "            \n",
    "    return dates, prices"
   ]
  },
  {
   "cell_type": "markdown",
   "metadata": {},
   "source": [
    "# Load Cleaned Data\n",
    "From here we are loading the recent Apple stock data"
   ]
  },
  {
   "cell_type": "code",
   "execution_count": 9,
   "metadata": {
    "collapsed": true
   },
   "outputs": [],
   "source": [
    "x_date, y_price = get_data('aapl.csv')"
   ]
  },
  {
   "cell_type": "markdown",
   "metadata": {},
   "source": [
    "# Verify that the data is organized"
   ]
  },
  {
   "cell_type": "code",
   "execution_count": 10,
   "metadata": {},
   "outputs": [
    {
     "name": "stdout",
     "output_type": "stream",
     "text": [
      "(251, 251)\n"
     ]
    }
   ],
   "source": [
    "# predicted_price = predict_prices(dates, prices, 29)\n",
    "print(len(x_date), len(y_price))"
   ]
  },
  {
   "cell_type": "markdown",
   "metadata": {},
   "source": [
    "# Predict and Print Results"
   ]
  },
  {
   "cell_type": "code",
   "execution_count": null,
   "metadata": {},
   "outputs": [
    {
     "name": "stdout",
     "output_type": "stream",
     "text": [
      "(251, 1)\n",
      "(251, 1)\n"
     ]
    }
   ],
   "source": [
    "x_date = np.reshape(x_date,(251, 1)) # converting to matrix of n X 1\n",
    "y_price = np.reshape(y_price,(251, 1))\n",
    "\n",
    "print x_date.shape\n",
    "print y_price.shape\n",
    "\n",
    "svr_lin = SVR(kernel= 'linear', C= 1e3)\n",
    "svr_poly = SVR(kernel= 'poly', C= 1e3, degree= 2)\n",
    "svr_rbf = SVR(kernel= 'rbf', C= 1e3, gamma= 0.1) # defining the support vector regression models\n",
    "\n",
    "\n",
    "svr_rbf.fit(x_date, y_price) # fitting the data points in the models\n",
    "svr_lin.fit(x_date, y_price)\n",
    "svr_poly.fit(x_date, y_price)\n",
    "\n",
    "plt.scatter(x_date, y_price, color= 'black', label= 'Data') # plotting the initial datapoints \n",
    "plt.plot(x_date, svr_rbf.predict(y_price), color= 'red', label= 'RBF model') # plotting the line made by the RBF kernel\n",
    "plt.plot(x_date,svr_lin.predict(y_price), color= 'green', label= 'Linear model') # plotting the line made by linear kernel\n",
    "plt.plot(x_date,svr_poly.predict(y_price), color= 'blue', label= 'Polynomial model') # plotting the line made by polynomial kernel\n",
    "\"\"\"\n",
    "plt.xlabel('Date')\n",
    "plt.ylabel('Price')\n",
    "plt.title('Support Vector Regression')\n",
    "plt.legend()\n",
    "plt.show()\n",
    "\"\"\""
   ]
  },
  {
   "cell_type": "code",
   "execution_count": null,
   "metadata": {
    "collapsed": true
   },
   "outputs": [],
   "source": []
  }
 ],
 "metadata": {
  "anaconda-cloud": {},
  "kernelspec": {
   "display_name": "Python [conda root]",
   "language": "python",
   "name": "conda-root-py"
  },
  "language_info": {
   "codemirror_mode": {
    "name": "ipython",
    "version": 2
   },
   "file_extension": ".py",
   "mimetype": "text/x-python",
   "name": "python",
   "nbconvert_exporter": "python",
   "pygments_lexer": "ipython2",
   "version": "2.7.13"
  }
 },
 "nbformat": 4,
 "nbformat_minor": 2
}

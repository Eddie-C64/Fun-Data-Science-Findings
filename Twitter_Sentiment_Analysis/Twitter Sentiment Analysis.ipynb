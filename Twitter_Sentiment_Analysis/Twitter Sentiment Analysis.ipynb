{
 "cells": [
  {
   "cell_type": "code",
   "execution_count": 2,
   "metadata": {
    "collapsed": false
   },
   "outputs": [],
   "source": [
    "#  In this program we analysis Twitter\n",
    "import tweepy\n",
    "from textblob import TextBlob\n",
    "\n",
    "consumer_key = 'pLsJ6GRWMW1ef0P7u7JqYTnBU'\n",
    "consumer_secret = 'kxJhJejYp5YOZLXCCjfnu1GiLRJ9qGGCnO47j6v1MSxA5qF57a'\n",
    "\n",
    "access_token = '849327279532539904-5oIs6Po6uRqnGTBxsDSYWPoXMNVmIRL'\n",
    "access_token_secret = 'aQAEA0KPlfciOnNuSG70kEzXCUTsxcdBSR41g1BHTYjX1'"
   ]
  },
  {
   "cell_type": "code",
   "execution_count": 3,
   "metadata": {
    "collapsed": true
   },
   "outputs": [],
   "source": [
    "auth = tweepy.OAuthHandler(consumer_key, consumer_secret)\n",
    "auth.set_access_token(access_token, access_token_secret)\n",
    "\n",
    "api = tweepy.API(auth)"
   ]
  },
  {
   "cell_type": "code",
   "execution_count": 6,
   "metadata": {
    "collapsed": false
   },
   "outputs": [
    {
     "name": "stdout",
     "output_type": "stream",
     "text": [
      "RT @arunraj_95: Chelsea Handler Crushes Donald Trump With Single Picture..\n",
      "\n",
      "see&gt;https://t.co/WMV7P8JRrK\n",
      "Sentiment(polarity=-0.07142857142857142, subjectivity=0.21428571428571427)\n",
      "RT @neilinozone: Shock Berkeley Poll: California Voters Want Democrats to Work with Trump https://t.co/QWu7qH4TR2 via @BreitbartNews\n",
      "Sentiment(polarity=0.0, subjectivity=0.0)\n",
      "RT @arunraj_95: Chelsea Handler Crushes Donald Trump With Single Picture..\n",
      "\n",
      "see&gt;https://t.co/WMV7P8JRrK\n",
      "Sentiment(polarity=-0.07142857142857142, subjectivity=0.21428571428571427)\n",
      "RT @arunraj_95: Chelsea Handler Crushes Donald Trump With Single Picture..\n",
      "\n",
      "see&gt;https://t.co/WMV7P8JRrK\n",
      "Sentiment(polarity=-0.07142857142857142, subjectivity=0.21428571428571427)\n",
      "RT @SteveWestly: Last week Trump quietly revoked the Fair Pay order, leaving women vulnerable to workplace abuse. #EqualPayDay #fairpay htt…\n",
      "Sentiment(polarity=0.04999999999999999, subjectivity=0.45)\n"
     ]
    },
    {
     "ename": "UnicodeEncodeError",
     "evalue": "'ascii' codec can't encode character u'\\u2026' in position 139: ordinal not in range(128)",
     "output_type": "error",
     "traceback": [
      "\u001b[0;31m---------------------------------------------------------------------------\u001b[0m",
      "\u001b[0;31mUnicodeEncodeError\u001b[0m                        Traceback (most recent call last)",
      "\u001b[0;32m<ipython-input-6-8d300d280639>\u001b[0m in \u001b[0;36m<module>\u001b[0;34m()\u001b[0m\n\u001b[1;32m     13\u001b[0m         \u001b[0manalysis\u001b[0m \u001b[0;34m=\u001b[0m \u001b[0mTextBlob\u001b[0m\u001b[0;34m(\u001b[0m\u001b[0mtweet\u001b[0m\u001b[0;34m.\u001b[0m\u001b[0mtext\u001b[0m\u001b[0;34m)\u001b[0m\u001b[0;34m\u001b[0m\u001b[0m\n\u001b[1;32m     14\u001b[0m         \u001b[0;32mprint\u001b[0m \u001b[0manalysis\u001b[0m\u001b[0;34m.\u001b[0m\u001b[0msentiment\u001b[0m\u001b[0;34m\u001b[0m\u001b[0m\n\u001b[0;32m---> 15\u001b[0;31m         \u001b[0mwriter\u001b[0m\u001b[0;34m.\u001b[0m\u001b[0mwriterow\u001b[0m\u001b[0;34m(\u001b[0m\u001b[0;34m[\u001b[0m\u001b[0mstr\u001b[0m\u001b[0;34m(\u001b[0m\u001b[0mtweet\u001b[0m\u001b[0;34m.\u001b[0m\u001b[0mtext\u001b[0m\u001b[0;34m)\u001b[0m\u001b[0;34m,\u001b[0m \u001b[0mstr\u001b[0m\u001b[0;34m(\u001b[0m\u001b[0manalysis\u001b[0m\u001b[0;34m.\u001b[0m\u001b[0msentiment\u001b[0m\u001b[0;34m)\u001b[0m\u001b[0;34m]\u001b[0m\u001b[0;34m)\u001b[0m\u001b[0;34m\u001b[0m\u001b[0m\n\u001b[0m",
      "\u001b[0;31mUnicodeEncodeError\u001b[0m: 'ascii' codec can't encode character u'\\u2026' in position 139: ordinal not in range(128)"
     ]
    }
   ],
   "source": [
    "\n",
    "def create_tweet_csv(search_string):\n",
    "\n",
    "    public_tweets = api.search(search_string)\n",
    "    csv_title = search_string + '_tweets.csv'\n",
    "    \n",
    "    import csv\n",
    "\n",
    "    with open('trump_tweets, 'w') as f:\n",
    "        writer = csv.writer(f, delimiter=',')\n",
    "\n",
    "        titles = ['Tweet', 'Sentiment Analysis']\n",
    "        writer.writerow(titles)\n",
    "\n",
    "        for tweet in public_tweets:\n",
    "            print tweet.text\n",
    "            analysis = TextBlob(tweet.text)\n",
    "            print analysis.sentiment\n",
    "            writer.writerow([str(tweet.text), str(analysis.sentiment)])"
   ]
  },
  {
   "cell_type": "code",
   "execution_count": null,
   "metadata": {
    "collapsed": true
   },
   "outputs": [],
   "source": []
  }
 ],
 "metadata": {
  "kernelspec": {
   "display_name": "Python [Root]",
   "language": "python",
   "name": "Python [Root]"
  },
  "language_info": {
   "codemirror_mode": {
    "name": "ipython",
    "version": 2
   },
   "file_extension": ".py",
   "mimetype": "text/x-python",
   "name": "python",
   "nbconvert_exporter": "python",
   "pygments_lexer": "ipython2",
   "version": "2.7.12"
  }
 },
 "nbformat": 4,
 "nbformat_minor": 2
}

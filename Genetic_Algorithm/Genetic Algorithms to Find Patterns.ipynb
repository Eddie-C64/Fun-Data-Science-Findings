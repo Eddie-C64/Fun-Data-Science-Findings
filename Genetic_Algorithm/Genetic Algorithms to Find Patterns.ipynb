{
 "cells": [
  {
   "cell_type": "code",
   "execution_count": 23,
   "metadata": {
    "collapsed": false,
    "deletable": true,
    "editable": true
   },
   "outputs": [],
   "source": [
    "# using TPOT and Scikit-Learn to find a pattern\n",
    "# Optimized by Pandas and Numpy\n",
    "\n",
    "import pandas as pd\n",
    "import numpy as np\n",
    "from tpot import TPOTRegressor\n",
    "from sklearn.model_selection import train_test_split\n",
    "\n",
    "# Read in csv\n",
    "global_data = pd.read_csv('GlobalTemperatures.csv')\n",
    "\n",
    "def clean_global_data(global_data):\n",
    "\n",
    "    # Time conversion\n",
    "    global_data.dt = pd.to_datetime(global_data.dt)\n",
    "\n",
    "    # Year, month, day conversion\n",
    "    global_data['year'] = global_data['dt'].dt.year\n",
    "    global_data['month'] = global_data['dt'].dt.month\n",
    "    global_data['day'] = global_data['dt'].dt.day\n",
    "\n",
    "    global_data.head()\n",
    "\n",
    "    global_data = global_data.drop('dt', 1)\n",
    "    global_data.head()\n",
    "\n",
    "    global_data = global_data[np.isfinite(global_data['LandAverageTemperature'])]\n",
    "    global_data = global_data.fillna(-9999)\n",
    "\n",
    "    global_data = global_data.drop('LandMaxTemperature',1)\n",
    "    global_data = global_data.drop('LandMaxTemperatureUncertainty',1)\n",
    "    global_data = global_data.drop('LandMinTemperature',1)\n",
    "    global_data = global_data.drop('LandMinTemperatureUncertainty',1)\n",
    "    global_data = global_data.drop('LandAverageTemperatureUncertainty',1)\n",
    "    global_data = global_data.drop('LandAndOceanAverageTemperature',1)\n",
    "    global_data = global_data.drop('LandAndOceanAverageTemperatureUncertainty',1)\n",
    "    \n",
    "    global_data.rename(columns={'LandAverageTemperature': 'class'}, inplace=True)\n",
    "    \n",
    "    global_data.to_csv('Cleaned_GlobalTemperatures.csv',index=False)\n",
    "\n"
   ]
  },
  {
   "cell_type": "code",
   "execution_count": null,
   "metadata": {
    "collapsed": false,
    "deletable": true,
    "editable": true
   },
   "outputs": [],
   "source": [
    "cleaned_global_data = pd.DataFrame(pd.read_csv('Cleaned_GlobalTemperatures.csv', delimiter=','))\n",
    "n = len(cleaned_global_data)\n",
    "\n",
    "train_size = int(n*.7) # 70% test\n",
    "test_size = int(n*.3) # 30% train split\n",
    "\n",
    "train = cleaned_global_data.head(train_size)\n",
    "train_y = train['class']\n",
    "train_x = train[['year', 'month', 'day']]\n",
    "\n",
    "test = cleaned_global_data.tail(test_size)\n",
    "test_y = test['class']\n",
    "test_x = test[['year', 'month', 'day']]"
   ]
  },
  {
   "cell_type": "code",
   "execution_count": null,
   "metadata": {
    "collapsed": false,
    "deletable": true,
    "editable": true
   },
   "outputs": [],
   "source": [
    "tpot = TPOTRegressor(verbosity=3, generations=10, population_size=50)\n",
    "tpot.fit(train_x, train_y)"
   ]
  },
  {
   "cell_type": "code",
   "execution_count": null,
   "metadata": {
    "collapsed": true
   },
   "outputs": [],
   "source": [
    "print('TPOT score: {}'.format(tpot.score(test_x, test_y)))"
   ]
  },
  {
   "cell_type": "code",
   "execution_count": null,
   "metadata": {
    "collapsed": true
   },
   "outputs": [],
   "source": []
  }
 ],
 "metadata": {
  "anaconda-cloud": {},
  "kernelspec": {
   "display_name": "Python [Root]",
   "language": "python",
   "name": "Python [Root]"
  },
  "language_info": {
   "codemirror_mode": {
    "name": "ipython",
    "version": 2
   },
   "file_extension": ".py",
   "mimetype": "text/x-python",
   "name": "python",
   "nbconvert_exporter": "python",
   "pygments_lexer": "ipython2",
   "version": "2.7.12"
  }
 },
 "nbformat": 4,
 "nbformat_minor": 2
}
